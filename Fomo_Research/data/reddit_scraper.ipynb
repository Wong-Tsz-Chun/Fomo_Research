{
 "cells": [
  {
   "cell_type": "code",
   "execution_count": 1,
   "id": "543de7b6-aedb-4f0e-b505-4668efe28240",
   "metadata": {},
   "outputs": [
    {
     "name": "stdout",
     "output_type": "stream",
     "text": [
      "\n",
      "=== Starting Reddit Scraper ===\n",
      "Successfully connected to Reddit API\n",
      "\n",
      "Scraping r/FOMO...\n",
      "Collected 51 posts and 88 comments from r/FOMO\n",
      "\n",
      "Scraping r/socialanxiety...\n",
      "Collected 108 posts and 972 comments from r/socialanxiety\n",
      "\n",
      "Scraping r/Anxiety...\n",
      "Collected 188 posts and 769 comments from r/Anxiety\n",
      "\n",
      "Scraping r/mentalhealth...\n",
      "Collected 147 posts and 276 comments from r/mentalhealth\n"
     ]
    }
   ],
   "source": [
    "# reddit_scraper.py\n",
    "import praw\n",
    "from datetime import datetime\n",
    "from utils import save_to_csv\n",
    "\n",
    "def scrape_reddit():\n",
    "    print(\"\\n=== Starting Reddit Scraper ===\")\n",
    "    try:\n",
    "        reddit = praw.Reddit(\n",
    "            client_id=\"WvaVwQIaAz9bIr8q7j0Arw\",\n",
    "            client_secret=\"H94fxb2g4vTaAK8ZECDwwquOnWnL8w\",\n",
    "            user_agent=\"FOMO_Scraper/1.0\"\n",
    "        )\n",
    "        print(\"Successfully connected to Reddit API\")\n",
    "    except Exception as e:\n",
    "        print(f\"Error connecting to Reddit API: {str(e)}\")\n",
    "        return\n",
    "\n",
    "    data_list = []\n",
    "    subreddits = ['FOMO', 'socialanxiety', 'Anxiety', 'mentalhealth']\n",
    "    \n",
    "    for subreddit in subreddits:\n",
    "        try:\n",
    "            print(f\"\\nScraping r/{subreddit}...\")\n",
    "            posts = reddit.subreddit(subreddit).search('FOMO', limit=500)\n",
    "            post_count = 0\n",
    "            comment_count = 0\n",
    "            \n",
    "            for post in posts:\n",
    "                # Add post data\n",
    "                data_list.append([\n",
    "                    datetime.fromtimestamp(post.created_utc),\n",
    "                    'reddit_post',\n",
    "                    post.title + ' ' + post.selftext,\n",
    "                    post.author.name if post.author else 'deleted',\n",
    "                    post.score\n",
    "                ])\n",
    "                post_count += 1\n",
    "\n",
    "                # Get comments\n",
    "                post.comments.replace_more(limit=None)  # Expand all comment trees\n",
    "                for comment in post.comments.list():\n",
    "                    try:\n",
    "                        data_list.append([\n",
    "                            datetime.fromtimestamp(comment.created_utc),\n",
    "                            'reddit_comment',\n",
    "                            comment.body,\n",
    "                            comment.author.name if comment.author else 'deleted',\n",
    "                            comment.score\n",
    "                        ])\n",
    "                        comment_count += 1\n",
    "                    except Exception as e:\n",
    "                        print(f\"Error processing comment: {str(e)}\")\n",
    "                        continue\n",
    "\n",
    "            print(f\"Collected {post_count} posts and {comment_count} comments from r/{subreddit}\")\n",
    "        except Exception as e:\n",
    "            print(f\"Error scraping r/{subreddit}: {str(e)}\")\n",
    "    \n",
    "    save_to_csv(data_list, 'reddit')\n",
    "\n",
    "if __name__ == \"__main__\":\n",
    "    scrape_reddit()"
   ]
  },
  {
   "cell_type": "code",
   "execution_count": null,
   "id": "5198be63-9553-4989-9eb4-2fdbc189ab6f",
   "metadata": {},
   "outputs": [],
   "source": []
  }
 ],
 "metadata": {
  "kernelspec": {
   "display_name": "Python 3 (ipykernel)",
   "language": "python",
   "name": "python3"
  },
  "language_info": {
   "codemirror_mode": {
    "name": "ipython",
    "version": 3
   },
   "file_extension": ".py",
   "mimetype": "text/x-python",
   "name": "python",
   "nbconvert_exporter": "python",
   "pygments_lexer": "ipython3",
   "version": "3.12.4"
  }
 },
 "nbformat": 4,
 "nbformat_minor": 5
}
